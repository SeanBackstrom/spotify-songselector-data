{
 "metadata": {
  "language_info": {
   "codemirror_mode": {
    "name": "ipython",
    "version": 3
   },
   "file_extension": ".py",
   "mimetype": "text/x-python",
   "name": "python",
   "nbconvert_exporter": "python",
   "pygments_lexer": "ipython3",
   "version": 3
  },
  "orig_nbformat": 2,
  "kernelspec": {
   "name": "python_defaultSpec_1596044202097",
   "display_name": "Python 3.7.6 64-bit ('spotify-songselector-data': pipenv)"
  }
 },
 "nbformat": 4,
 "nbformat_minor": 2,
 "cells": [
  {
   "cell_type": "code",
   "execution_count": 1,
   "metadata": {
    "tags": []
   },
   "outputs": [],
   "source": [
    "import spotipy\n",
    "from spotipy.oauth2 import SpotifyClientCredentials\n",
    "import os\n",
    "from dotenv import load_dotenv\n",
    "import pandas as pd\n",
    "\n",
    "load_dotenv()\n",
    "SPOTIPY_CLIENT_ID = os.getenv('SPOTIPY_CLIENT_ID')\n",
    "SPOTIPY_CLIENT_SECRET = os.getenv('SPOTIPY_CLIENT_SECRET')\n",
    "\n",
    "# use this variable to do commands\n",
    "sp = spotipy.Spotify(\n",
    "    client_credentials_manager=SpotifyClientCredentials())\n",
    "\n",
    "# new_releaselist = sp.new_releases(country='US', limit=1,)\n",
    "\n",
    "# print(sp.track('SOBBMDR12A8C13253B'))\n",
    "\n",
    "songlist = []\n",
    "offset = 0\n",
    "ranger = 5\n",
    "for songset in range(0, ranger):     \n",
    "    songs = sp.playlist_tracks(playlist_id='3YjUPovYVgaUHPTw2QUpMg',fields='items', limit=1,\n",
    "                               offset=offset, additional_types=['track',])\n",
    "    offset += 1\n",
    "    songlist.append(songs)\n",
    "\n"
   ]
  },
  {
   "cell_type": "code",
   "execution_count": 2,
   "metadata": {
    "tags": []
   },
   "outputs": [
    {
     "output_type": "stream",
     "name": "stdout",
     "text": "{'album': {'album_type': 'album', 'artists': [{'external_urls': {'spotify': 'https://open.spotify.com/artist/1dqGS5sT6PE2wEvP1gROZC'}, 'href': 'https://api.spotify.com/v1/artists/1dqGS5sT6PE2wEvP1gROZC', 'id': '1dqGS5sT6PE2wEvP1gROZC', 'name': 'Flatbush Zombies', 'type': 'artist', 'uri': 'spotify:artist:1dqGS5sT6PE2wEvP1gROZC'}], 'available_markets': ['AD', 'AE', 'AL', 'AR', 'AT', 'AU', 'BA', 'BE', 'BG', 'BH', 'BO', 'BR', 'BY', 'CA', 'CH', 'CL', 'CO', 'CR', 'CY', 'CZ', 'DE', 'DK', 'DO', 'DZ', 'EC', 'EE', 'EG', 'ES', 'FI', 'FR', 'GB', 'GR', 'GT', 'HK', 'HN', 'HR', 'HU', 'ID', 'IE', 'IL', 'IN', 'IS', 'IT', 'JO', 'JP', 'KW', 'KZ', 'LB', 'LI', 'LT', 'LU', 'LV', 'MA', 'MC', 'MD', 'ME', 'MK', 'MT', 'MX', 'MY', 'NI', 'NL', 'NO', 'NZ', 'OM', 'PA', 'PE', 'PH', 'PL', 'PS', 'PT', 'PY', 'QA', 'RO', 'RS', 'RU', 'SA', 'SE', 'SG', 'SI', 'SK', 'SV', 'TH', 'TN', 'TR', 'TW', 'UA', 'US', 'UY', 'VN', 'XK', 'ZA'], 'external_urls': {'spotify': 'https://open.spotify.com/album/4Qohh8LwXoV7ucmjCU4MYL'}, 'href': 'https://api.spotify.com/v1/albums/4Qohh8LwXoV7ucmjCU4MYL', 'id': '4Qohh8LwXoV7ucmjCU4MYL', 'images': [{'height': 640, 'url': 'https://i.scdn.co/image/ab67616d0000b273ced248bb8dd18aa2da62f4f4', 'width': 640}, {'height': 300, 'url': 'https://i.scdn.co/image/ab67616d00001e02ced248bb8dd18aa2da62f4f4', 'width': 300}, {'height': 64, 'url': 'https://i.scdn.co/image/ab67616d00004851ced248bb8dd18aa2da62f4f4', 'width': 64}], 'name': '3001: A Laced Odyssey', 'release_date': '2016-03-11', 'release_date_precision': 'day', 'total_tracks': 12, 'type': 'album', 'uri': 'spotify:album:4Qohh8LwXoV7ucmjCU4MYL'}, 'artists': [{'external_urls': {'spotify': 'https://open.spotify.com/artist/1dqGS5sT6PE2wEvP1gROZC'}, 'href': 'https://api.spotify.com/v1/artists/1dqGS5sT6PE2wEvP1gROZC', 'id': '1dqGS5sT6PE2wEvP1gROZC', 'name': 'Flatbush Zombies', 'type': 'artist', 'uri': 'spotify:artist:1dqGS5sT6PE2wEvP1gROZC'}], 'available_markets': ['AD', 'AE', 'AL', 'AR', 'AT', 'AU', 'BA', 'BE', 'BG', 'BH', 'BO', 'BR', 'BY', 'CA', 'CH', 'CL', 'CO', 'CR', 'CY', 'CZ', 'DE', 'DK', 'DO', 'DZ', 'EC', 'EE', 'EG', 'ES', 'FI', 'FR', 'GB', 'GR', 'GT', 'HK', 'HN', 'HR', 'HU', 'ID', 'IE', 'IL', 'IN', 'IS', 'IT', 'JO', 'JP', 'KW', 'KZ', 'LB', 'LI', 'LT', 'LU', 'LV', 'MA', 'MC', 'MD', 'ME', 'MK', 'MT', 'MX', 'MY', 'NI', 'NL', 'NO', 'NZ', 'OM', 'PA', 'PE', 'PH', 'PL', 'PS', 'PT', 'PY', 'QA', 'RO', 'RS', 'RU', 'SA', 'SE', 'SG', 'SI', 'SK', 'SV', 'TH', 'TN', 'TR', 'TW', 'UA', 'US', 'UY', 'VN', 'XK', 'ZA'], 'disc_number': 1, 'duration_ms': 779560, 'episode': False, 'explicit': True, 'external_ids': {'isrc': 'QZ2D51600012'}, 'external_urls': {'spotify': 'https://open.spotify.com/track/11iOB65szCoy6e5dscKrai'}, 'href': 'https://api.spotify.com/v1/tracks/11iOB65szCoy6e5dscKrai', 'id': '11iOB65szCoy6e5dscKrai', 'is_local': False, 'name': 'Your Favorite Rap Song', 'popularity': 47, 'preview_url': 'https://p.scdn.co/mp3-preview/8e0edb9ba4a46bdc95839db9569b1672595618e6?cid=ed821de5ebb1464cbb2f9112261ad125', 'track': True, 'track_number': 12, 'type': 'track', 'uri': 'spotify:track:11iOB65szCoy6e5dscKrai'}\n"
    }
   ],
   "source": [
    "tighter_song_list = []\n",
    "for i in range(0, ranger):\n",
    "    narrow_info = songlist[i]['items'][0]['track']\n",
    "    tighter_song_list.append(narrow_info)\n",
    "    tighter_song_list[0]['album']['name']\n",
    "print(narrow_info)"
   ]
  },
  {
   "cell_type": "code",
   "execution_count": 3,
   "metadata": {},
   "outputs": [
    {
     "output_type": "execute_result",
     "data": {
      "text/plain": "{'album_type': 'album',\n 'artists': [{'external_urls': {'spotify': 'https://open.spotify.com/artist/4LLpKhyESsyAXpc4laK94U'},\n   'href': 'https://api.spotify.com/v1/artists/4LLpKhyESsyAXpc4laK94U',\n   'id': '4LLpKhyESsyAXpc4laK94U',\n   'name': 'Mac Miller',\n   'type': 'artist',\n   'uri': 'spotify:artist:4LLpKhyESsyAXpc4laK94U'}],\n 'available_markets': ['AD',\n  'AE',\n  'AL',\n  'AR',\n  'AT',\n  'AU',\n  'BA',\n  'BE',\n  'BG',\n  'BH',\n  'BO',\n  'BR',\n  'BY',\n  'CA',\n  'CH',\n  'CL',\n  'CO',\n  'CR',\n  'CY',\n  'CZ',\n  'DE',\n  'DK',\n  'DO',\n  'DZ',\n  'EC',\n  'EE',\n  'EG',\n  'ES',\n  'FI',\n  'FR',\n  'GB',\n  'GR',\n  'GT',\n  'HK',\n  'HN',\n  'HR',\n  'HU',\n  'ID',\n  'IE',\n  'IL',\n  'IN',\n  'IS',\n  'IT',\n  'JO',\n  'JP',\n  'KW',\n  'KZ',\n  'LB',\n  'LI',\n  'LT',\n  'LU',\n  'LV',\n  'MA',\n  'MC',\n  'MD',\n  'ME',\n  'MK',\n  'MT',\n  'MX',\n  'MY',\n  'NI',\n  'NL',\n  'NO',\n  'NZ',\n  'OM',\n  'PA',\n  'PE',\n  'PH',\n  'PL',\n  'PS',\n  'PT',\n  'PY',\n  'QA',\n  'RO',\n  'RS',\n  'RU',\n  'SA',\n  'SE',\n  'SG',\n  'SI',\n  'SK',\n  'SV',\n  'TH',\n  'TN',\n  'TR',\n  'TW',\n  'UA',\n  'US',\n  'UY',\n  'VN',\n  'XK',\n  'ZA'],\n 'external_urls': {'spotify': 'https://open.spotify.com/album/2Tyx5dLhHYkx6zeAdVaTzN'},\n 'href': 'https://api.spotify.com/v1/albums/2Tyx5dLhHYkx6zeAdVaTzN',\n 'id': '2Tyx5dLhHYkx6zeAdVaTzN',\n 'images': [{'height': 640,\n   'url': 'https://i.scdn.co/image/ab67616d0000b273ee0f38410382a255e4fb15f4',\n   'width': 640},\n  {'height': 300,\n   'url': 'https://i.scdn.co/image/ab67616d00001e02ee0f38410382a255e4fb15f4',\n   'width': 300},\n  {'height': 64,\n   'url': 'https://i.scdn.co/image/ab67616d00004851ee0f38410382a255e4fb15f4',\n   'width': 64}],\n 'name': 'GO:OD AM',\n 'release_date': '2015-09-18',\n 'release_date_precision': 'day',\n 'total_tracks': 17,\n 'type': 'album',\n 'uri': 'spotify:album:2Tyx5dLhHYkx6zeAdVaTzN'}"
     },
     "metadata": {},
     "execution_count": 3
    }
   ],
   "source": [
    "df = pd.DataFrame(tighter_song_list)\n",
    "df['album'][0]\n"
   ]
  },
  {
   "cell_type": "code",
   "execution_count": 4,
   "metadata": {},
   "outputs": [],
   "source": [
    "df_final = df['popularity']\n",
    "# songlist[0]['items']"
   ]
  },
  {
   "cell_type": "code",
   "execution_count": 5,
   "metadata": {},
   "outputs": [
    {
     "output_type": "execute_result",
     "data": {
      "text/plain": "'GO:OD AM'"
     },
     "metadata": {},
     "execution_count": 5
    }
   ],
   "source": [
    "tighter_song_list[0]['album']['name']"
   ]
  },
  {
   "cell_type": "code",
   "execution_count": 6,
   "metadata": {},
   "outputs": [
    {
     "output_type": "execute_result",
     "data": {
      "text/plain": "                                               album  \\\n0  {'album_type': 'album', 'artists': [{'external...   \n1  {'album_type': 'album', 'artists': [{'external...   \n2  {'album_type': 'album', 'artists': [{'external...   \n3  {'album_type': 'album', 'artists': [{'external...   \n4  {'album_type': 'album', 'artists': [{'external...   \n\n                                             artists  \\\n0  [{'external_urls': {'spotify': 'https://open.s...   \n1  [{'external_urls': {'spotify': 'https://open.s...   \n2  [{'external_urls': {'spotify': 'https://open.s...   \n3  [{'external_urls': {'spotify': 'https://open.s...   \n4  [{'external_urls': {'spotify': 'https://open.s...   \n\n                                   available_markets  disc_number  \\\n0  [AD, AE, AL, AR, AT, AU, BA, BE, BG, BH, BO, B...            1   \n1  [AD, AE, AL, AR, AT, AU, BA, BE, BG, BH, BO, B...            1   \n2  [AD, AE, AL, AR, AT, AU, BA, BE, BG, BH, BO, B...            1   \n3  [AD, AE, AL, AR, AT, AU, BA, BE, BG, BH, BO, B...            1   \n4  [AD, AE, AL, AR, AT, AU, BA, BE, BG, BH, BO, B...            1   \n\n   duration_ms  episode  explicit              external_ids  \\\n0       278506    False      True  {'isrc': 'USWB11508205'}   \n1       559533    False      True  {'isrc': 'USUM71414228'}   \n2       167320    False      True  {'isrc': 'USUM71414216'}   \n3       579293    False      True  {'isrc': 'USA370629088'}   \n4       779560    False      True  {'isrc': 'QZ2D51600012'}   \n\n                                       external_urls  \\\n0  {'spotify': 'https://open.spotify.com/track/4z...   \n1  {'spotify': 'https://open.spotify.com/track/5L...   \n2  {'spotify': 'https://open.spotify.com/track/1K...   \n3  {'spotify': 'https://open.spotify.com/track/7M...   \n4  {'spotify': 'https://open.spotify.com/track/11...   \n\n                                                href                      id  \\\n0  https://api.spotify.com/v1/tracks/4z0PnuB07fxt...  4z0PnuB07fxtVZZRWsCfxb   \n1  https://api.spotify.com/v1/tracks/5LME7YULt0en...  5LME7YULt0enp6UAB8VoDn   \n2  https://api.spotify.com/v1/tracks/1Kp6WFxRzc0s...  1Kp6WFxRzc0sRBmGSgIYat   \n3  https://api.spotify.com/v1/tracks/7MDUVH4ITohs...  7MDUVH4ITohsIjdynRwCJp   \n4  https://api.spotify.com/v1/tracks/11iOB65szCoy...  11iOB65szCoy6e5dscKrai   \n\n   is_local                    name  popularity  \\\n0     False           100 Grandkids          63   \n1     False          Under Pressure          62   \n2     False            Gang Related          64   \n3     False    Dance With the Devil          58   \n4     False  Your Favorite Rap Song          47   \n\n                                         preview_url  track  track_number  \\\n0  https://p.scdn.co/mp3-preview/c96f69a2a5f2ab34...   True             5   \n1                                               None   True            11   \n2                                               None   True             4   \n3  https://p.scdn.co/mp3-preview/ac2a0bd171c81181...   True            11   \n4  https://p.scdn.co/mp3-preview/8e0edb9ba4a46bdc...   True            12   \n\n    type                                   uri  \n0  track  spotify:track:4z0PnuB07fxtVZZRWsCfxb  \n1  track  spotify:track:5LME7YULt0enp6UAB8VoDn  \n2  track  spotify:track:1Kp6WFxRzc0sRBmGSgIYat  \n3  track  spotify:track:7MDUVH4ITohsIjdynRwCJp  \n4  track  spotify:track:11iOB65szCoy6e5dscKrai  ",
      "text/html": "<div>\n<style scoped>\n    .dataframe tbody tr th:only-of-type {\n        vertical-align: middle;\n    }\n\n    .dataframe tbody tr th {\n        vertical-align: top;\n    }\n\n    .dataframe thead th {\n        text-align: right;\n    }\n</style>\n<table border=\"1\" class=\"dataframe\">\n  <thead>\n    <tr style=\"text-align: right;\">\n      <th></th>\n      <th>album</th>\n      <th>artists</th>\n      <th>available_markets</th>\n      <th>disc_number</th>\n      <th>duration_ms</th>\n      <th>episode</th>\n      <th>explicit</th>\n      <th>external_ids</th>\n      <th>external_urls</th>\n      <th>href</th>\n      <th>id</th>\n      <th>is_local</th>\n      <th>name</th>\n      <th>popularity</th>\n      <th>preview_url</th>\n      <th>track</th>\n      <th>track_number</th>\n      <th>type</th>\n      <th>uri</th>\n    </tr>\n  </thead>\n  <tbody>\n    <tr>\n      <th>0</th>\n      <td>{'album_type': 'album', 'artists': [{'external...</td>\n      <td>[{'external_urls': {'spotify': 'https://open.s...</td>\n      <td>[AD, AE, AL, AR, AT, AU, BA, BE, BG, BH, BO, B...</td>\n      <td>1</td>\n      <td>278506</td>\n      <td>False</td>\n      <td>True</td>\n      <td>{'isrc': 'USWB11508205'}</td>\n      <td>{'spotify': 'https://open.spotify.com/track/4z...</td>\n      <td>https://api.spotify.com/v1/tracks/4z0PnuB07fxt...</td>\n      <td>4z0PnuB07fxtVZZRWsCfxb</td>\n      <td>False</td>\n      <td>100 Grandkids</td>\n      <td>63</td>\n      <td>https://p.scdn.co/mp3-preview/c96f69a2a5f2ab34...</td>\n      <td>True</td>\n      <td>5</td>\n      <td>track</td>\n      <td>spotify:track:4z0PnuB07fxtVZZRWsCfxb</td>\n    </tr>\n    <tr>\n      <th>1</th>\n      <td>{'album_type': 'album', 'artists': [{'external...</td>\n      <td>[{'external_urls': {'spotify': 'https://open.s...</td>\n      <td>[AD, AE, AL, AR, AT, AU, BA, BE, BG, BH, BO, B...</td>\n      <td>1</td>\n      <td>559533</td>\n      <td>False</td>\n      <td>True</td>\n      <td>{'isrc': 'USUM71414228'}</td>\n      <td>{'spotify': 'https://open.spotify.com/track/5L...</td>\n      <td>https://api.spotify.com/v1/tracks/5LME7YULt0en...</td>\n      <td>5LME7YULt0enp6UAB8VoDn</td>\n      <td>False</td>\n      <td>Under Pressure</td>\n      <td>62</td>\n      <td>None</td>\n      <td>True</td>\n      <td>11</td>\n      <td>track</td>\n      <td>spotify:track:5LME7YULt0enp6UAB8VoDn</td>\n    </tr>\n    <tr>\n      <th>2</th>\n      <td>{'album_type': 'album', 'artists': [{'external...</td>\n      <td>[{'external_urls': {'spotify': 'https://open.s...</td>\n      <td>[AD, AE, AL, AR, AT, AU, BA, BE, BG, BH, BO, B...</td>\n      <td>1</td>\n      <td>167320</td>\n      <td>False</td>\n      <td>True</td>\n      <td>{'isrc': 'USUM71414216'}</td>\n      <td>{'spotify': 'https://open.spotify.com/track/1K...</td>\n      <td>https://api.spotify.com/v1/tracks/1Kp6WFxRzc0s...</td>\n      <td>1Kp6WFxRzc0sRBmGSgIYat</td>\n      <td>False</td>\n      <td>Gang Related</td>\n      <td>64</td>\n      <td>None</td>\n      <td>True</td>\n      <td>4</td>\n      <td>track</td>\n      <td>spotify:track:1Kp6WFxRzc0sRBmGSgIYat</td>\n    </tr>\n    <tr>\n      <th>3</th>\n      <td>{'album_type': 'album', 'artists': [{'external...</td>\n      <td>[{'external_urls': {'spotify': 'https://open.s...</td>\n      <td>[AD, AE, AL, AR, AT, AU, BA, BE, BG, BH, BO, B...</td>\n      <td>1</td>\n      <td>579293</td>\n      <td>False</td>\n      <td>True</td>\n      <td>{'isrc': 'USA370629088'}</td>\n      <td>{'spotify': 'https://open.spotify.com/track/7M...</td>\n      <td>https://api.spotify.com/v1/tracks/7MDUVH4ITohs...</td>\n      <td>7MDUVH4ITohsIjdynRwCJp</td>\n      <td>False</td>\n      <td>Dance With the Devil</td>\n      <td>58</td>\n      <td>https://p.scdn.co/mp3-preview/ac2a0bd171c81181...</td>\n      <td>True</td>\n      <td>11</td>\n      <td>track</td>\n      <td>spotify:track:7MDUVH4ITohsIjdynRwCJp</td>\n    </tr>\n    <tr>\n      <th>4</th>\n      <td>{'album_type': 'album', 'artists': [{'external...</td>\n      <td>[{'external_urls': {'spotify': 'https://open.s...</td>\n      <td>[AD, AE, AL, AR, AT, AU, BA, BE, BG, BH, BO, B...</td>\n      <td>1</td>\n      <td>779560</td>\n      <td>False</td>\n      <td>True</td>\n      <td>{'isrc': 'QZ2D51600012'}</td>\n      <td>{'spotify': 'https://open.spotify.com/track/11...</td>\n      <td>https://api.spotify.com/v1/tracks/11iOB65szCoy...</td>\n      <td>11iOB65szCoy6e5dscKrai</td>\n      <td>False</td>\n      <td>Your Favorite Rap Song</td>\n      <td>47</td>\n      <td>https://p.scdn.co/mp3-preview/8e0edb9ba4a46bdc...</td>\n      <td>True</td>\n      <td>12</td>\n      <td>track</td>\n      <td>spotify:track:11iOB65szCoy6e5dscKrai</td>\n    </tr>\n  </tbody>\n</table>\n</div>"
     },
     "metadata": {},
     "execution_count": 6
    }
   ],
   "source": [
    "df"
   ]
  },
  {
   "cell_type": "code",
   "execution_count": 7,
   "metadata": {},
   "outputs": [],
   "source": [
    "import pandas as pd\n",
    "df = pd.read_csv(\"large_song_data.csv\", index_col=0)"
   ]
  },
  {
   "cell_type": "code",
   "execution_count": 8,
   "metadata": {},
   "outputs": [
    {
     "output_type": "execute_result",
     "data": {
      "text/plain": "                 track_id          suggested_id_1          suggested_id_2  \\\n0  2RM4jf1Xa9zPgMGRDiht8O  6ZbQJplIhznkai9Duxv4BB  5W12joIh0XrwMkQScZclw5   \n1  1tHDG53xJNGsItRA3vfVgs  0go0d980ZLJk5WsR9eXR4s  2k29JB9QSXg4GF46LjhM3X   \n2  1pWeQDyW5ieMmfjr8HP5TU  50XL9fJ99S5LPRLnXSsiOs  4cb2DSkJVDWcMOPgXpEWB6   \n3  75NGdzR6LSC1r0KB5mltP9  51HNLw4bc3vK33IF0M4PDy  4fZRm3sCdRAInQ2nH134Ej   \n4  3AT4akM1Oj1dfCb0ZA9cdy  2lRe5wBRm4xaSKTbDn2vLD  0KDxmYBQUw16diadSah97A   \n\n           suggested_id_3          suggested_id_4          suggested_id_5  \\\n0  6OxiZ2AKy9UFAmdumLYnTf  6XzyAQs2jU4PMWmnFlEQLW  0sEK0sQ2hlJYAuA3bnxrAn   \n1  4lRO89kqUc97CWtil3e8Uz  2jdUcTkiAd2OVr9NmBPWd4  1GWLMDEwCeVELrW3qphA9a   \n2  0LHCGhmrr3M94fS5B4oqa7  0Rt6sKoyTpgywEceQlOm4I  70aGjUBECmba2TGCETwxNW   \n3  2BbUQfI5pp4wa5FrcRLRUE  2oCjNHAJfXQ9Ga70n67Nzb  4tXDGIPLRuXn4Q2UBi9TU7   \n4  739WqqewmLt5IdBM9JaLjs  2CAegssA9BhQKSsJiSoWCS  0X2sc95uuQRPbMLbPZ2aOv   \n\n  Dance Intimate Happy Energy Tempos Lyrics Instrument Accoustic  \n0  High      Low   Low    Med   High    Med        Low       Low  \n1  High      Low   Med    Med   High    Med        Low       Low  \n2  High      Low   Low    Med   High    Med        Low       Low  \n3  High      Low   Med    Med   High    Low        Low       Low  \n4  High      Low   Low    Med   High    Med        Low       Low  ",
      "text/html": "<div>\n<style scoped>\n    .dataframe tbody tr th:only-of-type {\n        vertical-align: middle;\n    }\n\n    .dataframe tbody tr th {\n        vertical-align: top;\n    }\n\n    .dataframe thead th {\n        text-align: right;\n    }\n</style>\n<table border=\"1\" class=\"dataframe\">\n  <thead>\n    <tr style=\"text-align: right;\">\n      <th></th>\n      <th>track_id</th>\n      <th>suggested_id_1</th>\n      <th>suggested_id_2</th>\n      <th>suggested_id_3</th>\n      <th>suggested_id_4</th>\n      <th>suggested_id_5</th>\n      <th>Dance</th>\n      <th>Intimate</th>\n      <th>Happy</th>\n      <th>Energy</th>\n      <th>Tempos</th>\n      <th>Lyrics</th>\n      <th>Instrument</th>\n      <th>Accoustic</th>\n    </tr>\n  </thead>\n  <tbody>\n    <tr>\n      <th>0</th>\n      <td>2RM4jf1Xa9zPgMGRDiht8O</td>\n      <td>6ZbQJplIhznkai9Duxv4BB</td>\n      <td>5W12joIh0XrwMkQScZclw5</td>\n      <td>6OxiZ2AKy9UFAmdumLYnTf</td>\n      <td>6XzyAQs2jU4PMWmnFlEQLW</td>\n      <td>0sEK0sQ2hlJYAuA3bnxrAn</td>\n      <td>High</td>\n      <td>Low</td>\n      <td>Low</td>\n      <td>Med</td>\n      <td>High</td>\n      <td>Med</td>\n      <td>Low</td>\n      <td>Low</td>\n    </tr>\n    <tr>\n      <th>1</th>\n      <td>1tHDG53xJNGsItRA3vfVgs</td>\n      <td>0go0d980ZLJk5WsR9eXR4s</td>\n      <td>2k29JB9QSXg4GF46LjhM3X</td>\n      <td>4lRO89kqUc97CWtil3e8Uz</td>\n      <td>2jdUcTkiAd2OVr9NmBPWd4</td>\n      <td>1GWLMDEwCeVELrW3qphA9a</td>\n      <td>High</td>\n      <td>Low</td>\n      <td>Med</td>\n      <td>Med</td>\n      <td>High</td>\n      <td>Med</td>\n      <td>Low</td>\n      <td>Low</td>\n    </tr>\n    <tr>\n      <th>2</th>\n      <td>1pWeQDyW5ieMmfjr8HP5TU</td>\n      <td>50XL9fJ99S5LPRLnXSsiOs</td>\n      <td>4cb2DSkJVDWcMOPgXpEWB6</td>\n      <td>0LHCGhmrr3M94fS5B4oqa7</td>\n      <td>0Rt6sKoyTpgywEceQlOm4I</td>\n      <td>70aGjUBECmba2TGCETwxNW</td>\n      <td>High</td>\n      <td>Low</td>\n      <td>Low</td>\n      <td>Med</td>\n      <td>High</td>\n      <td>Med</td>\n      <td>Low</td>\n      <td>Low</td>\n    </tr>\n    <tr>\n      <th>3</th>\n      <td>75NGdzR6LSC1r0KB5mltP9</td>\n      <td>51HNLw4bc3vK33IF0M4PDy</td>\n      <td>4fZRm3sCdRAInQ2nH134Ej</td>\n      <td>2BbUQfI5pp4wa5FrcRLRUE</td>\n      <td>2oCjNHAJfXQ9Ga70n67Nzb</td>\n      <td>4tXDGIPLRuXn4Q2UBi9TU7</td>\n      <td>High</td>\n      <td>Low</td>\n      <td>Med</td>\n      <td>Med</td>\n      <td>High</td>\n      <td>Low</td>\n      <td>Low</td>\n      <td>Low</td>\n    </tr>\n    <tr>\n      <th>4</th>\n      <td>3AT4akM1Oj1dfCb0ZA9cdy</td>\n      <td>2lRe5wBRm4xaSKTbDn2vLD</td>\n      <td>0KDxmYBQUw16diadSah97A</td>\n      <td>739WqqewmLt5IdBM9JaLjs</td>\n      <td>2CAegssA9BhQKSsJiSoWCS</td>\n      <td>0X2sc95uuQRPbMLbPZ2aOv</td>\n      <td>High</td>\n      <td>Low</td>\n      <td>Low</td>\n      <td>Med</td>\n      <td>High</td>\n      <td>Med</td>\n      <td>Low</td>\n      <td>Low</td>\n    </tr>\n  </tbody>\n</table>\n</div>"
     },
     "metadata": {},
     "execution_count": 8
    }
   ],
   "source": [
    "df.head()"
   ]
  },
  {
   "cell_type": "code",
   "execution_count": 9,
   "metadata": {},
   "outputs": [],
   "source": [
    "track_1 = '1tHDG53xJNGsItRA3vfVgs'"
   ]
  },
  {
   "cell_type": "code",
   "execution_count": 10,
   "metadata": {},
   "outputs": [],
   "source": [
    "trackdf = df[df['track_id'].str.match(track_1)]"
   ]
  },
  {
   "cell_type": "code",
   "execution_count": 11,
   "metadata": {},
   "outputs": [
    {
     "output_type": "execute_result",
     "data": {
      "text/plain": "['0go0d980ZLJk5WsR9eXR4s',\n '2k29JB9QSXg4GF46LjhM3X',\n '4lRO89kqUc97CWtil3e8Uz',\n '2jdUcTkiAd2OVr9NmBPWd4',\n '1GWLMDEwCeVELrW3qphA9a']"
     },
     "metadata": {},
     "execution_count": 11
    }
   ],
   "source": [
    "\n",
    "trackdf[['suggested_id_1', 'suggested_id_2', 'suggested_id_3', 'suggested_id_4', 'suggested_id_5']].values.tolist()[0]"
   ]
  },
  {
   "cell_type": "code",
   "execution_count": 12,
   "metadata": {},
   "outputs": [
    {
     "output_type": "execute_result",
     "data": {
      "text/plain": "Index(['track_id', 'suggested_id_1', 'suggested_id_2', 'suggested_id_3',\n       'suggested_id_4', 'suggested_id_5', 'Dance', 'Intimate', 'Happy',\n       'Energy', 'Tempos', 'Lyrics', 'Instrument', 'Accoustic'],\n      dtype='object')"
     },
     "metadata": {},
     "execution_count": 12
    }
   ],
   "source": [
    "df.columns"
   ]
  },
  {
   "cell_type": "code",
   "execution_count": 13,
   "metadata": {},
   "outputs": [],
   "source": [
    "df2 = df.copy()\n",
    "df2.columns = ['track_id', 'suggested_id_1', 'suggested_id_2', 'suggested_id_3',\n",
    "       'suggested_id_4', 'suggested_id_5', 'danceability', 'liveness', 'valence',\n",
    "       'energy', 'tempo', 'speechiness', 'instrument', 'acousticness']"
   ]
  },
  {
   "cell_type": "code",
   "execution_count": 14,
   "metadata": {},
   "outputs": [],
   "source": [
    "post_return = [\n",
    "  {\n",
    "    \"mood\": \"danceability\",\n",
    "    \"value\": \"high\"\n",
    "  },\n",
    "  {\n",
    "    \"mood\": \"energy\",\n",
    "    \"value\": \"medium\"\n",
    "  },\n",
    "  {\n",
    "    \"mood\": \"speechiness\",\n",
    "    \"value\": \"medium\"\n",
    "  },\n",
    "  {\n",
    "    \"mood\": \"acousticness\",\n",
    "    \"value\": \"low\"\n",
    "  }\n",
    "]"
   ]
  },
  {
   "cell_type": "code",
   "execution_count": 15,
   "metadata": {},
   "outputs": [
    {
     "output_type": "execute_result",
     "data": {
      "text/plain": "[{'mood': 'danceability', 'value': 'high'},\n {'mood': 'energy', 'value': 'medium'},\n {'mood': 'speechiness', 'value': 'medium'},\n {'mood': 'acousticness', 'value': 'low'}]"
     },
     "metadata": {},
     "execution_count": 15
    }
   ],
   "source": [
    "post_return"
   ]
  },
  {
   "cell_type": "code",
   "execution_count": 16,
   "metadata": {},
   "outputs": [],
   "source": [
    "df2 = df2.drop(labels=['suggested_id_1', 'suggested_id_2', 'suggested_id_3',\n",
    "       'suggested_id_4', 'suggested_id_5', 'instrument'], axis=1)"
   ]
  },
  {
   "cell_type": "code",
   "execution_count": 17,
   "metadata": {},
   "outputs": [
    {
     "output_type": "execute_result",
     "data": {
      "text/plain": "                      track_id danceability liveness valence energy tempo  \\\n2524    7j7z6go5IH8FlE0BI0J92c         High      Low     Low    Low  High   \n2926    42yu9N4ai9BQcLsHiTn9za         High      Low     Low    Med  High   \n8671    48MHpBuIen7yU0L1lbHEOj         High      Low     Low    Low  High   \n8771    7McQXVUuXwQMmFAHJFH3FT         High      Low     Low    Low  High   \n8976    3CY8qb0GtRt9coMUDsu2Ah         High      Low     Low    Low  High   \n...                        ...          ...      ...     ...    ...   ...   \n124808  4qqgSh3E9XpLT7JXhuZaUo         High      Low     Low    Med  High   \n125735  2H5CLUmtvo2VHEeWzMtUqW         High      Low     Low    Med  High   \n126689  1OlU1rn0QOG40zQ699g3hV         High      Low     Low    Low  High   \n127281  5cR6nr7SFSFm4MtrUuAdmv         High      Med     Low   High  High   \n130575  1rCzV9VHmrUmBjbyfzV7ou         High      Med     Low    Low  High   \n\n       speechiness acousticness  \n2524          High         High  \n2926          High         High  \n8671          High         High  \n8771          High         High  \n8976          High         High  \n...            ...          ...  \n124808        High          Low  \n125735        High          Low  \n126689        High         High  \n127281        High          Low  \n130575        High          Med  \n\n[101 rows x 8 columns]",
      "text/html": "<div>\n<style scoped>\n    .dataframe tbody tr th:only-of-type {\n        vertical-align: middle;\n    }\n\n    .dataframe tbody tr th {\n        vertical-align: top;\n    }\n\n    .dataframe thead th {\n        text-align: right;\n    }\n</style>\n<table border=\"1\" class=\"dataframe\">\n  <thead>\n    <tr style=\"text-align: right;\">\n      <th></th>\n      <th>track_id</th>\n      <th>danceability</th>\n      <th>liveness</th>\n      <th>valence</th>\n      <th>energy</th>\n      <th>tempo</th>\n      <th>speechiness</th>\n      <th>acousticness</th>\n    </tr>\n  </thead>\n  <tbody>\n    <tr>\n      <th>2524</th>\n      <td>7j7z6go5IH8FlE0BI0J92c</td>\n      <td>High</td>\n      <td>Low</td>\n      <td>Low</td>\n      <td>Low</td>\n      <td>High</td>\n      <td>High</td>\n      <td>High</td>\n    </tr>\n    <tr>\n      <th>2926</th>\n      <td>42yu9N4ai9BQcLsHiTn9za</td>\n      <td>High</td>\n      <td>Low</td>\n      <td>Low</td>\n      <td>Med</td>\n      <td>High</td>\n      <td>High</td>\n      <td>High</td>\n    </tr>\n    <tr>\n      <th>8671</th>\n      <td>48MHpBuIen7yU0L1lbHEOj</td>\n      <td>High</td>\n      <td>Low</td>\n      <td>Low</td>\n      <td>Low</td>\n      <td>High</td>\n      <td>High</td>\n      <td>High</td>\n    </tr>\n    <tr>\n      <th>8771</th>\n      <td>7McQXVUuXwQMmFAHJFH3FT</td>\n      <td>High</td>\n      <td>Low</td>\n      <td>Low</td>\n      <td>Low</td>\n      <td>High</td>\n      <td>High</td>\n      <td>High</td>\n    </tr>\n    <tr>\n      <th>8976</th>\n      <td>3CY8qb0GtRt9coMUDsu2Ah</td>\n      <td>High</td>\n      <td>Low</td>\n      <td>Low</td>\n      <td>Low</td>\n      <td>High</td>\n      <td>High</td>\n      <td>High</td>\n    </tr>\n    <tr>\n      <th>...</th>\n      <td>...</td>\n      <td>...</td>\n      <td>...</td>\n      <td>...</td>\n      <td>...</td>\n      <td>...</td>\n      <td>...</td>\n      <td>...</td>\n    </tr>\n    <tr>\n      <th>124808</th>\n      <td>4qqgSh3E9XpLT7JXhuZaUo</td>\n      <td>High</td>\n      <td>Low</td>\n      <td>Low</td>\n      <td>Med</td>\n      <td>High</td>\n      <td>High</td>\n      <td>Low</td>\n    </tr>\n    <tr>\n      <th>125735</th>\n      <td>2H5CLUmtvo2VHEeWzMtUqW</td>\n      <td>High</td>\n      <td>Low</td>\n      <td>Low</td>\n      <td>Med</td>\n      <td>High</td>\n      <td>High</td>\n      <td>Low</td>\n    </tr>\n    <tr>\n      <th>126689</th>\n      <td>1OlU1rn0QOG40zQ699g3hV</td>\n      <td>High</td>\n      <td>Low</td>\n      <td>Low</td>\n      <td>Low</td>\n      <td>High</td>\n      <td>High</td>\n      <td>High</td>\n    </tr>\n    <tr>\n      <th>127281</th>\n      <td>5cR6nr7SFSFm4MtrUuAdmv</td>\n      <td>High</td>\n      <td>Med</td>\n      <td>Low</td>\n      <td>High</td>\n      <td>High</td>\n      <td>High</td>\n      <td>Low</td>\n    </tr>\n    <tr>\n      <th>130575</th>\n      <td>1rCzV9VHmrUmBjbyfzV7ou</td>\n      <td>High</td>\n      <td>Med</td>\n      <td>Low</td>\n      <td>Low</td>\n      <td>High</td>\n      <td>High</td>\n      <td>Med</td>\n    </tr>\n  </tbody>\n</table>\n<p>101 rows × 8 columns</p>\n</div>"
     },
     "metadata": {},
     "execution_count": 17
    }
   ],
   "source": [
    "df2.loc[(df2['danceability'] == 'High') & (df2['valence'] == 'Low') & (df2['speechiness'] == 'High')]"
   ]
  },
  {
   "cell_type": "code",
   "execution_count": 18,
   "metadata": {},
   "outputs": [],
   "source": [
    "df2['danceability'] = df2['danceability'].str.lower()\n",
    "df2[\"danceability\"]= df2[\"danceability\"].replace(\"med\", \"medium\") \n",
    "df2['liveness'] = df2['liveness'].str.lower()\n",
    "df2[\"liveness\"]= df2[\"liveness\"].replace(\"med\", \"medium\") \n",
    "df2['valence'] = df2['valence'].str.lower()\n",
    "df2[\"valence\"]= df2[\"valence\"].replace(\"med\", \"medium\") \n",
    "df2['energy'] = df2['energy'].str.lower()\n",
    "df2[\"energy\"]= df2[\"energy\"].replace(\"med\", \"medium\") \n",
    "df2['tempo'] = df2['tempo'].str.lower()\n",
    "df2[\"tempo\"]= df2[\"tempo\"].replace(\"med\", \"medium\") \n",
    "df2['speechiness'] = df2['speechiness'].str.lower()\n",
    "df2[\"speechiness\"]= df2[\"speechiness\"].replace(\"med\", \"medium\") \n",
    "df2['acousticness'] = df2['acousticness'].str.lower()\n",
    "df2[\"acousticness\"]= df2[\"acousticness\"].replace(\"med\", \"medium\") "
   ]
  },
  {
   "cell_type": "code",
   "execution_count": 19,
   "metadata": {},
   "outputs": [
    {
     "output_type": "execute_result",
     "data": {
      "text/plain": "                      track_id danceability liveness valence  energy tempo  \\\n0       2RM4jf1Xa9zPgMGRDiht8O         high      low     low  medium  high   \n1       1tHDG53xJNGsItRA3vfVgs         high      low  medium  medium  high   \n2       1pWeQDyW5ieMmfjr8HP5TU         high      low     low  medium  high   \n3       75NGdzR6LSC1r0KB5mltP9         high      low  medium  medium  high   \n4       3AT4akM1Oj1dfCb0ZA9cdy         high      low     low  medium  high   \n...                        ...          ...      ...     ...     ...   ...   \n130658  0ySn4jIZDiQfDN5R1WlUvh         high      low    high    high  high   \n130659  1c57sAKlEMZyDXE89RgUWz       medium      low  medium  medium  high   \n130660  1e92VSkCg0HIFwyxnDCfje         high      low  medium     low  high   \n130661  3NoA0UbucoXgIdD0ZnTgw0         high     high  medium     low  high   \n130662  43MP9F7UzvfilSrw2SqZGJ       medium      low  medium     low  high   \n\n       speechiness acousticness  \n0           medium          low  \n1           medium          low  \n2           medium          low  \n3              low          low  \n4           medium          low  \n...            ...          ...  \n130658         low          low  \n130659         low         high  \n130660         low       medium  \n130661         low         high  \n130662         low         high  \n\n[130663 rows x 8 columns]",
      "text/html": "<div>\n<style scoped>\n    .dataframe tbody tr th:only-of-type {\n        vertical-align: middle;\n    }\n\n    .dataframe tbody tr th {\n        vertical-align: top;\n    }\n\n    .dataframe thead th {\n        text-align: right;\n    }\n</style>\n<table border=\"1\" class=\"dataframe\">\n  <thead>\n    <tr style=\"text-align: right;\">\n      <th></th>\n      <th>track_id</th>\n      <th>danceability</th>\n      <th>liveness</th>\n      <th>valence</th>\n      <th>energy</th>\n      <th>tempo</th>\n      <th>speechiness</th>\n      <th>acousticness</th>\n    </tr>\n  </thead>\n  <tbody>\n    <tr>\n      <th>0</th>\n      <td>2RM4jf1Xa9zPgMGRDiht8O</td>\n      <td>high</td>\n      <td>low</td>\n      <td>low</td>\n      <td>medium</td>\n      <td>high</td>\n      <td>medium</td>\n      <td>low</td>\n    </tr>\n    <tr>\n      <th>1</th>\n      <td>1tHDG53xJNGsItRA3vfVgs</td>\n      <td>high</td>\n      <td>low</td>\n      <td>medium</td>\n      <td>medium</td>\n      <td>high</td>\n      <td>medium</td>\n      <td>low</td>\n    </tr>\n    <tr>\n      <th>2</th>\n      <td>1pWeQDyW5ieMmfjr8HP5TU</td>\n      <td>high</td>\n      <td>low</td>\n      <td>low</td>\n      <td>medium</td>\n      <td>high</td>\n      <td>medium</td>\n      <td>low</td>\n    </tr>\n    <tr>\n      <th>3</th>\n      <td>75NGdzR6LSC1r0KB5mltP9</td>\n      <td>high</td>\n      <td>low</td>\n      <td>medium</td>\n      <td>medium</td>\n      <td>high</td>\n      <td>low</td>\n      <td>low</td>\n    </tr>\n    <tr>\n      <th>4</th>\n      <td>3AT4akM1Oj1dfCb0ZA9cdy</td>\n      <td>high</td>\n      <td>low</td>\n      <td>low</td>\n      <td>medium</td>\n      <td>high</td>\n      <td>medium</td>\n      <td>low</td>\n    </tr>\n    <tr>\n      <th>...</th>\n      <td>...</td>\n      <td>...</td>\n      <td>...</td>\n      <td>...</td>\n      <td>...</td>\n      <td>...</td>\n      <td>...</td>\n      <td>...</td>\n    </tr>\n    <tr>\n      <th>130658</th>\n      <td>0ySn4jIZDiQfDN5R1WlUvh</td>\n      <td>high</td>\n      <td>low</td>\n      <td>high</td>\n      <td>high</td>\n      <td>high</td>\n      <td>low</td>\n      <td>low</td>\n    </tr>\n    <tr>\n      <th>130659</th>\n      <td>1c57sAKlEMZyDXE89RgUWz</td>\n      <td>medium</td>\n      <td>low</td>\n      <td>medium</td>\n      <td>medium</td>\n      <td>high</td>\n      <td>low</td>\n      <td>high</td>\n    </tr>\n    <tr>\n      <th>130660</th>\n      <td>1e92VSkCg0HIFwyxnDCfje</td>\n      <td>high</td>\n      <td>low</td>\n      <td>medium</td>\n      <td>low</td>\n      <td>high</td>\n      <td>low</td>\n      <td>medium</td>\n    </tr>\n    <tr>\n      <th>130661</th>\n      <td>3NoA0UbucoXgIdD0ZnTgw0</td>\n      <td>high</td>\n      <td>high</td>\n      <td>medium</td>\n      <td>low</td>\n      <td>high</td>\n      <td>low</td>\n      <td>high</td>\n    </tr>\n    <tr>\n      <th>130662</th>\n      <td>43MP9F7UzvfilSrw2SqZGJ</td>\n      <td>medium</td>\n      <td>low</td>\n      <td>medium</td>\n      <td>low</td>\n      <td>high</td>\n      <td>low</td>\n      <td>high</td>\n    </tr>\n  </tbody>\n</table>\n<p>130663 rows × 8 columns</p>\n</div>"
     },
     "metadata": {},
     "execution_count": 19
    }
   ],
   "source": [
    "df2"
   ]
  },
  {
   "cell_type": "code",
   "execution_count": 20,
   "metadata": {},
   "outputs": [
    {
     "output_type": "execute_result",
     "data": {
      "text/plain": "[{'mood': 'danceability', 'value': 'high'},\n {'mood': 'energy', 'value': 'medium'},\n {'mood': 'speechiness', 'value': 'medium'},\n {'mood': 'acousticness', 'value': 'low'}]"
     },
     "metadata": {},
     "execution_count": 20
    }
   ],
   "source": [
    "post_return"
   ]
  },
  {
   "cell_type": "code",
   "execution_count": 53,
   "metadata": {},
   "outputs": [
    {
     "output_type": "error",
     "ename": "ModuleNotFoundError",
     "evalue": "No module named 'counter'",
     "traceback": [
      "\u001b[1;31m---------------------------------------------------------------------------\u001b[0m",
      "\u001b[1;31mModuleNotFoundError\u001b[0m                       Traceback (most recent call last)",
      "\u001b[1;32m<ipython-input-53-23c78d159906>\u001b[0m in \u001b[0;36m<module>\u001b[1;34m\u001b[0m\n\u001b[1;32m----> 1\u001b[1;33m \u001b[1;32mimport\u001b[0m \u001b[0mcounter\u001b[0m\u001b[1;33m\u001b[0m\u001b[1;33m\u001b[0m\u001b[0m\n\u001b[0m\u001b[0;32m      2\u001b[0m \u001b[1;33m\u001b[0m\u001b[0m\n\u001b[0;32m      3\u001b[0m \u001b[1;33m\u001b[0m\u001b[0m\n\u001b[0;32m      4\u001b[0m \u001b[0mmoods\u001b[0m \u001b[1;33m=\u001b[0m \u001b[1;33m[\u001b[0m\u001b[1;33m]\u001b[0m\u001b[1;33m\u001b[0m\u001b[1;33m\u001b[0m\u001b[0m\n\u001b[0;32m      5\u001b[0m \u001b[0mvalues\u001b[0m \u001b[1;33m=\u001b[0m \u001b[1;33m[\u001b[0m\u001b[1;33m]\u001b[0m\u001b[1;33m\u001b[0m\u001b[1;33m\u001b[0m\u001b[0m\n",
      "\u001b[1;31mModuleNotFoundError\u001b[0m: No module named 'counter'"
     ]
    }
   ],
   "source": [
    "from collections import Counter\n",
    "\n",
    "\n",
    "moods = []\n",
    "values = []\n",
    "all_mood_names = ['danceability','liveness','valence','energy','tempo','speechiness','acousticness']\n",
    "for i in range(0, 7):\n",
    "    if i > len(post_return):\n",
    "        mood = missing_name\n",
    "    \n",
    "    \n",
    "    \n",
    "    mood = post_return[i]['mood']\n",
    "    value = post_return[i]['value']\n",
    "\n",
    "    moods.append(mood)\n",
    "    values.append(value)\n",
    "\n",
    "    # for j in range(0, len(post_return[i])):\n",
    "     #   if \n",
    "\n",
    "result = list((Counter(C) - Counter(D)).elements())\n"
   ]
  },
  {
   "cell_type": "code",
   "execution_count": 45,
   "metadata": {},
   "outputs": [
    {
     "output_type": "execute_result",
     "data": {
      "text/plain": "['danceability', 'energy', 'speechiness', 'acousticness']"
     },
     "metadata": {},
     "execution_count": 45
    }
   ],
   "source": [
    "moods"
   ]
  },
  {
   "cell_type": "code",
   "execution_count": 46,
   "metadata": {},
   "outputs": [
    {
     "output_type": "execute_result",
     "data": {
      "text/plain": "['high', 'medium', 'medium', 'low']"
     },
     "metadata": {},
     "execution_count": 46
    }
   ],
   "source": [
    "values"
   ]
  },
  {
   "cell_type": "code",
   "execution_count": 52,
   "metadata": {},
   "outputs": [
    {
     "output_type": "execute_result",
     "data": {
      "text/plain": "                      track_id danceability liveness valence  energy tempo  \\\n0       2RM4jf1Xa9zPgMGRDiht8O         high      low     low  medium  high   \n1       1tHDG53xJNGsItRA3vfVgs         high      low  medium  medium  high   \n2       1pWeQDyW5ieMmfjr8HP5TU         high      low     low  medium  high   \n4       3AT4akM1Oj1dfCb0ZA9cdy         high      low     low  medium  high   \n7       1oHVEh0DgUZfg8tK5DfYvm         high      low     low  medium  high   \n...                        ...          ...      ...     ...     ...   ...   \n130449  0w6Ia1SRUyaHZVz9GzORDx         high      low  medium  medium  high   \n130533  7bsDkKlVNeqhFI2mAVEoIq         high   medium  medium  medium  high   \n130595  5s6JRth3XYtu6d23IqFRle         high   medium     low  medium  high   \n130611  27Lpp9GctfJnMlMf9hNhme         high      low     low  medium  high   \n130639  2XV7ruR03jL8PD2Kmnzq64         high      low    high  medium  high   \n\n       speechiness acousticness  \n0           medium          low  \n1           medium          low  \n2           medium          low  \n4           medium          low  \n7           medium          low  \n...            ...          ...  \n130449      medium          low  \n130533      medium          low  \n130595      medium          low  \n130611      medium          low  \n130639      medium          low  \n\n[2312 rows x 8 columns]",
      "text/html": "<div>\n<style scoped>\n    .dataframe tbody tr th:only-of-type {\n        vertical-align: middle;\n    }\n\n    .dataframe tbody tr th {\n        vertical-align: top;\n    }\n\n    .dataframe thead th {\n        text-align: right;\n    }\n</style>\n<table border=\"1\" class=\"dataframe\">\n  <thead>\n    <tr style=\"text-align: right;\">\n      <th></th>\n      <th>track_id</th>\n      <th>danceability</th>\n      <th>liveness</th>\n      <th>valence</th>\n      <th>energy</th>\n      <th>tempo</th>\n      <th>speechiness</th>\n      <th>acousticness</th>\n    </tr>\n  </thead>\n  <tbody>\n    <tr>\n      <th>0</th>\n      <td>2RM4jf1Xa9zPgMGRDiht8O</td>\n      <td>high</td>\n      <td>low</td>\n      <td>low</td>\n      <td>medium</td>\n      <td>high</td>\n      <td>medium</td>\n      <td>low</td>\n    </tr>\n    <tr>\n      <th>1</th>\n      <td>1tHDG53xJNGsItRA3vfVgs</td>\n      <td>high</td>\n      <td>low</td>\n      <td>medium</td>\n      <td>medium</td>\n      <td>high</td>\n      <td>medium</td>\n      <td>low</td>\n    </tr>\n    <tr>\n      <th>2</th>\n      <td>1pWeQDyW5ieMmfjr8HP5TU</td>\n      <td>high</td>\n      <td>low</td>\n      <td>low</td>\n      <td>medium</td>\n      <td>high</td>\n      <td>medium</td>\n      <td>low</td>\n    </tr>\n    <tr>\n      <th>4</th>\n      <td>3AT4akM1Oj1dfCb0ZA9cdy</td>\n      <td>high</td>\n      <td>low</td>\n      <td>low</td>\n      <td>medium</td>\n      <td>high</td>\n      <td>medium</td>\n      <td>low</td>\n    </tr>\n    <tr>\n      <th>7</th>\n      <td>1oHVEh0DgUZfg8tK5DfYvm</td>\n      <td>high</td>\n      <td>low</td>\n      <td>low</td>\n      <td>medium</td>\n      <td>high</td>\n      <td>medium</td>\n      <td>low</td>\n    </tr>\n    <tr>\n      <th>...</th>\n      <td>...</td>\n      <td>...</td>\n      <td>...</td>\n      <td>...</td>\n      <td>...</td>\n      <td>...</td>\n      <td>...</td>\n      <td>...</td>\n    </tr>\n    <tr>\n      <th>130449</th>\n      <td>0w6Ia1SRUyaHZVz9GzORDx</td>\n      <td>high</td>\n      <td>low</td>\n      <td>medium</td>\n      <td>medium</td>\n      <td>high</td>\n      <td>medium</td>\n      <td>low</td>\n    </tr>\n    <tr>\n      <th>130533</th>\n      <td>7bsDkKlVNeqhFI2mAVEoIq</td>\n      <td>high</td>\n      <td>medium</td>\n      <td>medium</td>\n      <td>medium</td>\n      <td>high</td>\n      <td>medium</td>\n      <td>low</td>\n    </tr>\n    <tr>\n      <th>130595</th>\n      <td>5s6JRth3XYtu6d23IqFRle</td>\n      <td>high</td>\n      <td>medium</td>\n      <td>low</td>\n      <td>medium</td>\n      <td>high</td>\n      <td>medium</td>\n      <td>low</td>\n    </tr>\n    <tr>\n      <th>130611</th>\n      <td>27Lpp9GctfJnMlMf9hNhme</td>\n      <td>high</td>\n      <td>low</td>\n      <td>low</td>\n      <td>medium</td>\n      <td>high</td>\n      <td>medium</td>\n      <td>low</td>\n    </tr>\n    <tr>\n      <th>130639</th>\n      <td>2XV7ruR03jL8PD2Kmnzq64</td>\n      <td>high</td>\n      <td>low</td>\n      <td>high</td>\n      <td>medium</td>\n      <td>high</td>\n      <td>medium</td>\n      <td>low</td>\n    </tr>\n  </tbody>\n</table>\n<p>2312 rows × 8 columns</p>\n</div>"
     },
     "metadata": {},
     "execution_count": 52
    }
   ],
   "source": [
    "\n",
    "    df2.loc[(df2[moods[0]] == values[0]) & \n",
    "    (df2[moods[1]] == values[1]) & \n",
    "    (df2[moods[2]] == values[2]) &\n",
    "    (df2[moods[3]] == values[3])]\n"
   ]
  },
  {
   "cell_type": "code",
   "execution_count": 44,
   "metadata": {},
   "outputs": [
    {
     "output_type": "error",
     "ename": "SyntaxError",
     "evalue": "invalid syntax (<ipython-input-44-94c5225bb6c0>, line 4)",
     "traceback": [
      "\u001b[1;36m  File \u001b[1;32m\"<ipython-input-44-94c5225bb6c0>\"\u001b[1;36m, line \u001b[1;32m4\u001b[0m\n\u001b[1;33m    filter_list.append(df2.loc[(df2[moods[i]] == values[i])]) &\u001b[0m\n\u001b[1;37m                                                               ^\u001b[0m\n\u001b[1;31mSyntaxError\u001b[0m\u001b[1;31m:\u001b[0m invalid syntax\n"
     ]
    }
   ],
   "source": [
    "filter_list = []\n",
    "for i in range(0, len(moods)):\n",
    "\n",
    "    filter_list.append(df2.loc[(df2[moods[i]] == values[i])])\n",
    "    \n",
    "# [(df2['danceability'] == 'High') & (df2['valence'] == 'Low') & (df2['speechiness'] == 'High')]"
   ]
  },
  {
   "cell_type": "code",
   "execution_count": null,
   "metadata": {},
   "outputs": [],
   "source": []
  },
  {
   "cell_type": "code",
   "execution_count": 37,
   "metadata": {},
   "outputs": [
    {
     "output_type": "execute_result",
     "data": {
      "text/plain": "['danceability', 'energy', 'speechiness', 'acousticness']"
     },
     "metadata": {},
     "execution_count": 37
    }
   ],
   "source": [
    "moods"
   ]
  },
  {
   "cell_type": "code",
   "execution_count": 38,
   "metadata": {},
   "outputs": [
    {
     "output_type": "execute_result",
     "data": {
      "text/plain": "['high', 'medium', 'medium', 'low']"
     },
     "metadata": {},
     "execution_count": 38
    }
   ],
   "source": [
    "values"
   ]
  },
  {
   "cell_type": "code",
   "execution_count": 43,
   "metadata": {},
   "outputs": [
    {
     "output_type": "error",
     "ename": "AttributeError",
     "evalue": "'DataFrame' object has no attribute 'dtype'",
     "traceback": [
      "\u001b[1;31m---------------------------------------------------------------------------\u001b[0m",
      "\u001b[1;31mAttributeError\u001b[0m                            Traceback (most recent call last)",
      "\u001b[1;32m<ipython-input-43-8ee0de69c5df>\u001b[0m in \u001b[0;36m<module>\u001b[1;34m\u001b[0m\n\u001b[1;32m----> 1\u001b[1;33m \u001b[0mfilter_list\u001b[0m\u001b[1;33m[\u001b[0m\u001b[1;36m0\u001b[0m\u001b[1;33m]\u001b[0m\u001b[1;33m.\u001b[0m\u001b[0mdtype\u001b[0m\u001b[1;33m\u001b[0m\u001b[1;33m\u001b[0m\u001b[0m\n\u001b[0m",
      "\u001b[1;32m~\\.virtualenvs\\spotify-songselector-data-1OdN1VOX\\lib\\site-packages\\pandas\\core\\generic.py\u001b[0m in \u001b[0;36m__getattr__\u001b[1;34m(self, name)\u001b[0m\n\u001b[0;32m   5272\u001b[0m             \u001b[1;32mif\u001b[0m \u001b[0mself\u001b[0m\u001b[1;33m.\u001b[0m\u001b[0m_info_axis\u001b[0m\u001b[1;33m.\u001b[0m\u001b[0m_can_hold_identifiers_and_holds_name\u001b[0m\u001b[1;33m(\u001b[0m\u001b[0mname\u001b[0m\u001b[1;33m)\u001b[0m\u001b[1;33m:\u001b[0m\u001b[1;33m\u001b[0m\u001b[1;33m\u001b[0m\u001b[0m\n\u001b[0;32m   5273\u001b[0m                 \u001b[1;32mreturn\u001b[0m \u001b[0mself\u001b[0m\u001b[1;33m[\u001b[0m\u001b[0mname\u001b[0m\u001b[1;33m]\u001b[0m\u001b[1;33m\u001b[0m\u001b[1;33m\u001b[0m\u001b[0m\n\u001b[1;32m-> 5274\u001b[1;33m             \u001b[1;32mreturn\u001b[0m \u001b[0mobject\u001b[0m\u001b[1;33m.\u001b[0m\u001b[0m__getattribute__\u001b[0m\u001b[1;33m(\u001b[0m\u001b[0mself\u001b[0m\u001b[1;33m,\u001b[0m \u001b[0mname\u001b[0m\u001b[1;33m)\u001b[0m\u001b[1;33m\u001b[0m\u001b[1;33m\u001b[0m\u001b[0m\n\u001b[0m\u001b[0;32m   5275\u001b[0m \u001b[1;33m\u001b[0m\u001b[0m\n\u001b[0;32m   5276\u001b[0m     \u001b[1;32mdef\u001b[0m \u001b[0m__setattr__\u001b[0m\u001b[1;33m(\u001b[0m\u001b[0mself\u001b[0m\u001b[1;33m,\u001b[0m \u001b[0mname\u001b[0m\u001b[1;33m:\u001b[0m \u001b[0mstr\u001b[0m\u001b[1;33m,\u001b[0m \u001b[0mvalue\u001b[0m\u001b[1;33m)\u001b[0m \u001b[1;33m->\u001b[0m \u001b[1;32mNone\u001b[0m\u001b[1;33m:\u001b[0m\u001b[1;33m\u001b[0m\u001b[1;33m\u001b[0m\u001b[0m\n",
      "\u001b[1;31mAttributeError\u001b[0m: 'DataFrame' object has no attribute 'dtype'"
     ]
    }
   ],
   "source": [
    "filter_list[0].dtype"
   ]
  },
  {
   "cell_type": "code",
   "execution_count": 25,
   "metadata": {},
   "outputs": [
    {
     "output_type": "execute_result",
     "data": {
      "text/plain": "Empty DataFrame\nColumns: [track_id, danceability, liveness, valence, energy, tempo, speechiness, acousticness]\nIndex: []",
      "text/html": "<div>\n<style scoped>\n    .dataframe tbody tr th:only-of-type {\n        vertical-align: middle;\n    }\n\n    .dataframe tbody tr th {\n        vertical-align: top;\n    }\n\n    .dataframe thead th {\n        text-align: right;\n    }\n</style>\n<table border=\"1\" class=\"dataframe\">\n  <thead>\n    <tr style=\"text-align: right;\">\n      <th></th>\n      <th>track_id</th>\n      <th>danceability</th>\n      <th>liveness</th>\n      <th>valence</th>\n      <th>energy</th>\n      <th>tempo</th>\n      <th>speechiness</th>\n      <th>acousticness</th>\n    </tr>\n  </thead>\n  <tbody>\n  </tbody>\n</table>\n</div>"
     },
     "metadata": {},
     "execution_count": 25
    }
   ],
   "source": [
    "df2.loc[(df2['danceability'] == 'High') & (df2['valence'] == 'Low') & (df2['speechiness'] == 'High')]"
   ]
  }
 ]
}